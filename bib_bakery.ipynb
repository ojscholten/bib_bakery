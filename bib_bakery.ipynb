{
 "cells": [
  {
   "cell_type": "markdown",
   "metadata": {},
   "source": [
    "# Bake HTML into your .bib files!"
   ]
  },
  {
   "cell_type": "markdown",
   "metadata": {},
   "source": [
    "Run the cell below on the `references.bib` file in this directory and see what happens... this is useful when used with jekyll-scholar and nbdev, just remember to update your `_config.yml` to include `bibliography: references_baked.bib` in the `scholar` group."
   ]
  },
  {
   "cell_type": "code",
   "execution_count": 2,
   "metadata": {},
   "outputs": [],
   "source": [
    "from pybtex.database import parse_file\n",
    "\n",
    "def bake_bib(bibfile):\n",
    "    # first parse the file into a bibdata object (see pybtex)\n",
    "    bibdata = parse_file(bibfile)\n",
    "    \n",
    "    # go through each entry...\n",
    "    for entry in bibdata.entries:\n",
    "        current = bibdata.entries[entry]\n",
    "        \n",
    "        # if it has a url field\n",
    "        if 'url' in current.fields:\n",
    "            title = current.fields['title']\n",
    "            url = current.fields['url']\n",
    "            \n",
    "            # create a 'baked' version which modifies the title\n",
    "            baked_title = \"<a href=\\\"\" + url + \"\\\">\" + title + \"</a>\"\n",
    "            \n",
    "            # and change the original (not the local variable)\n",
    "            bibdata.entries[entry].fields['title'] = baked_title\n",
    "            \n",
    "    # finally save the baked bib file with the suffix\n",
    "    with open(bibfile[:-4] + '_baked.bib', 'w') as file:\n",
    "        file.write(bibdata.to_string('bibtex'))\n",
    "        \n",
    "bake_bib('references.bib')"
   ]
  }
 ],
 "metadata": {
  "kernelspec": {
   "display_name": "Python 3",
   "language": "python",
   "name": "python3"
  },
  "language_info": {
   "codemirror_mode": {
    "name": "ipython",
    "version": 3
   },
   "file_extension": ".py",
   "mimetype": "text/x-python",
   "name": "python",
   "nbconvert_exporter": "python",
   "pygments_lexer": "ipython3",
   "version": "3.8.5"
  }
 },
 "nbformat": 4,
 "nbformat_minor": 4
}
